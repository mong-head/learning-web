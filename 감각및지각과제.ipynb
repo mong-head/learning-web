{
  "nbformat": 4,
  "nbformat_minor": 0,
  "metadata": {
    "colab": {
      "name": "감각및지각과제.ipynb",
      "provenance": [],
      "collapsed_sections": [],
      "authorship_tag": "ABX9TyPC40IfA+FXubWqCGVcKUkU",
      "include_colab_link": true
    },
    "kernelspec": {
      "name": "python3",
      "display_name": "Python 3"
    },
    "accelerator": "GPU"
  },
  "cells": [
    {
      "cell_type": "markdown",
      "metadata": {
        "id": "view-in-github",
        "colab_type": "text"
      },
      "source": [
        "<a href=\"https://colab.research.google.com/github/mong-head/learning-web/blob/master/%EA%B0%90%EA%B0%81%EB%B0%8F%EC%A7%80%EA%B0%81%EA%B3%BC%EC%A0%9C.ipynb\" target=\"_parent\"><img src=\"https://colab.research.google.com/assets/colab-badge.svg\" alt=\"Open In Colab\"/></a>"
      ]
    },
    {
      "cell_type": "code",
      "metadata": {
        "id": "4Yfd94qsvwlg",
        "colab_type": "code",
        "colab": {
          "base_uri": "https://localhost:8080/",
          "height": 34
        },
        "outputId": "77d0bb4b-9a45-40c1-fead-84e29ed1e4d3"
      },
      "source": [
        "from google.colab import drive\n",
        "drive.mount('/content/drive')"
      ],
      "execution_count": 200,
      "outputs": [
        {
          "output_type": "stream",
          "text": [
            "Drive already mounted at /content/drive; to attempt to forcibly remount, call drive.mount(\"/content/drive\", force_remount=True).\n"
          ],
          "name": "stdout"
        }
      ]
    },
    {
      "cell_type": "code",
      "metadata": {
        "id": "oj7mSpwVn3lM",
        "colab_type": "code",
        "colab": {}
      },
      "source": [
        "# Python ≥3.5 is required\n",
        "import sys\n",
        "assert sys.version_info >= (3, 5)\n",
        "\n",
        "# Scikit-Learn ≥0.20 is required\n",
        "import sklearn\n",
        "assert sklearn.__version__ >= \"0.20\"\n",
        "\n",
        "%matplotlib inline\n",
        "import matplotlib as mpl\n",
        "\n",
        "import matplotlib.pyplot as plt\n",
        "import numpy as np\n",
        "import pandas as pd\n",
        "import sklearn.linear_model\n",
        "from sklearn.linear_model import LogisticRegression\n",
        "\n",
        "from pandas import Series, DataFrame\n",
        "from sklearn.model_selection import cross_val_score"
      ],
      "execution_count": 0,
      "outputs": []
    },
    {
      "cell_type": "code",
      "metadata": {
        "id": "tuzb5JzpwGz9",
        "colab_type": "code",
        "colab": {
          "base_uri": "https://localhost:8080/",
          "height": 410
        },
        "outputId": "fbad48ee-2f48-4240-de7d-c42a2537a619"
      },
      "source": [
        "csv_file = '/content/drive/My Drive/Colab Notebooks/session1.csv'\n",
        "x = pd.read_csv(csv_file)\n",
        "y = pd.read_csv(csv_file)\n",
        "x"
      ],
      "execution_count": 202,
      "outputs": [
        {
          "output_type": "execute_result",
          "data": {
            "text/html": [
              "<div>\n",
              "<style scoped>\n",
              "    .dataframe tbody tr th:only-of-type {\n",
              "        vertical-align: middle;\n",
              "    }\n",
              "\n",
              "    .dataframe tbody tr th {\n",
              "        vertical-align: top;\n",
              "    }\n",
              "\n",
              "    .dataframe thead th {\n",
              "        text-align: right;\n",
              "    }\n",
              "</style>\n",
              "<table border=\"1\" class=\"dataframe\">\n",
              "  <thead>\n",
              "    <tr style=\"text-align: right;\">\n",
              "      <th></th>\n",
              "      <th>px</th>\n",
              "      <th>label</th>\n",
              "    </tr>\n",
              "  </thead>\n",
              "  <tbody>\n",
              "    <tr>\n",
              "      <th>0</th>\n",
              "      <td>490</td>\n",
              "      <td>2</td>\n",
              "    </tr>\n",
              "    <tr>\n",
              "      <th>1</th>\n",
              "      <td>450</td>\n",
              "      <td>1</td>\n",
              "    </tr>\n",
              "    <tr>\n",
              "      <th>2</th>\n",
              "      <td>390</td>\n",
              "      <td>1</td>\n",
              "    </tr>\n",
              "    <tr>\n",
              "      <th>3</th>\n",
              "      <td>370</td>\n",
              "      <td>1</td>\n",
              "    </tr>\n",
              "    <tr>\n",
              "      <th>4</th>\n",
              "      <td>530</td>\n",
              "      <td>2</td>\n",
              "    </tr>\n",
              "    <tr>\n",
              "      <th>...</th>\n",
              "      <td>...</td>\n",
              "      <td>...</td>\n",
              "    </tr>\n",
              "    <tr>\n",
              "      <th>220</th>\n",
              "      <td>490</td>\n",
              "      <td>2</td>\n",
              "    </tr>\n",
              "    <tr>\n",
              "      <th>221</th>\n",
              "      <td>390</td>\n",
              "      <td>1</td>\n",
              "    </tr>\n",
              "    <tr>\n",
              "      <th>222</th>\n",
              "      <td>530</td>\n",
              "      <td>2</td>\n",
              "    </tr>\n",
              "    <tr>\n",
              "      <th>223</th>\n",
              "      <td>390</td>\n",
              "      <td>1</td>\n",
              "    </tr>\n",
              "    <tr>\n",
              "      <th>224</th>\n",
              "      <td>510</td>\n",
              "      <td>2</td>\n",
              "    </tr>\n",
              "  </tbody>\n",
              "</table>\n",
              "<p>225 rows × 2 columns</p>\n",
              "</div>"
            ],
            "text/plain": [
              "      px  label\n",
              "0    490      2\n",
              "1    450      1\n",
              "2    390      1\n",
              "3    370      1\n",
              "4    530      2\n",
              "..   ...    ...\n",
              "220  490      2\n",
              "221  390      1\n",
              "222  530      2\n",
              "223  390      1\n",
              "224  510      2\n",
              "\n",
              "[225 rows x 2 columns]"
            ]
          },
          "metadata": {
            "tags": []
          },
          "execution_count": 202
        }
      ]
    },
    {
      "cell_type": "code",
      "metadata": {
        "id": "G8JsLU-ixz8c",
        "colab_type": "code",
        "colab": {}
      },
      "source": [
        "X = x.drop(\"label\",axis=1)\n",
        "Y = y.drop(\"px\",axis=1)"
      ],
      "execution_count": 0,
      "outputs": []
    },
    {
      "cell_type": "code",
      "metadata": {
        "id": "RWOCxO7YzKQv",
        "colab_type": "code",
        "colab": {
          "base_uri": "https://localhost:8080/",
          "height": 282
        },
        "outputId": "eae77ffd-ef5d-4ef8-c01d-b4b3c359c54a"
      },
      "source": [
        "plt.scatter(X,Y)"
      ],
      "execution_count": 204,
      "outputs": [
        {
          "output_type": "execute_result",
          "data": {
            "text/plain": [
              "<matplotlib.collections.PathCollection at 0x7fc6288378d0>"
            ]
          },
          "metadata": {
            "tags": []
          },
          "execution_count": 204
        },
        {
          "output_type": "display_data",
          "data": {
            "image/png": "[encoded data removed]",
            "text/plain": [
              "<Figure size 432x288 with 1 Axes>"
            ]
          },
          "metadata": {
            "tags": [],
            "needs_background": "light"
          }
        }
      ]
    },
    {
      "cell_type": "code",
      "metadata": {
        "id": "GPXUDHYoOYDU",
        "colab_type": "code",
        "colab": {
          "base_uri": "https://localhost:8080/",
          "height": 34
        },
        "outputId": "e4d9cf49-3fa0-42d4-f61c-bd99882c37f4"
      },
      "source": [
        "from sklearn.linear_model import LogisticRegression\n",
        "\n",
        "softmax_reg = LogisticRegression(solver = 'liblinear', C=1000000000000, random_state=42)\n",
        "X_ = X.values.reshape(-1,1)\n",
        "softmax_reg.fit(X_,Y.values.ravel())\n",
        "softmax_val = cross_val_score(softmax_reg,X_,Y.values.ravel(), cv=10, scoring=\"accuracy\").mean()\n",
        "print(softmax_val)"
      ],
      "execution_count": 205,
      "outputs": [
        {
          "output_type": "stream",
          "text": [
            "0.8523715415019761\n"
          ],
          "name": "stdout"
        }
      ]
    },
    {
      "cell_type": "code",
      "metadata": {
        "id": "p4MuJaE4zRd4",
        "colab_type": "code",
        "colab": {
          "base_uri": "https://localhost:8080/",
          "height": 265
        },
        "outputId": "aff4300d-fc0f-45dc-af20-ac8ff4ebb893"
      },
      "source": [
        "prob = []\n",
        "for i in X_:\n",
        "  p_loss, p_win = softmax_reg.predict_proba([i])[0]\n",
        "  prob.append(p_win)\n",
        "\n",
        "plt.scatter(X_,prob)\n",
        "plt.show()"
      ],
      "execution_count": 206,
      "outputs": [
        {
          "output_type": "display_data",
          "data": {
            "image/png": "[encoded data removed]",
            "text/plain": [
              "<Figure size 432x288 with 1 Axes>"
            ]
          },
          "metadata": {
            "tags": [],
            "needs_background": "light"
          }
        }
      ]
    },
    {
      "cell_type": "code",
      "metadata": {
        "id": "qcdBOwH8b0oU",
        "colab_type": "code",
        "colab": {
          "base_uri": "https://localhost:8080/",
          "height": 34
        },
        "outputId": "bfa5d975-2157-45e3-ed9c-c0b636c043e5"
      },
      "source": [
        "p = softmax_reg.predict_proba([[490]])\n",
        "p[0][1]"
      ],
      "execution_count": 211,
      "outputs": [
        {
          "output_type": "execute_result",
          "data": {
            "text/plain": [
              "0.7494854683039913"
            ]
          },
          "metadata": {
            "tags": []
          },
          "execution_count": 211
        }
      ]
    },
    {
      "cell_type": "code",
      "metadata": {
        "id": "VXIPxCbtZy5v",
        "colab_type": "code",
        "colab": {
          "base_uri": "https://localhost:8080/",
          "height": 34
        },
        "outputId": "94897f5d-c1b5-4454-cb30-4ec9c35122ae"
      },
      "source": [
        "myrange = np.linspace(450,490,100000)\n",
        "for absolute_threshold in myrange:\n",
        "  p = softmax_reg.predict_proba([[absolute_threshold]])\n",
        "  if p[0][1] < 0.50001 and p[0][1] > 0.49999:\n",
        "    break\n",
        "absolute_threshold"
      ],
      "execution_count": 208,
      "outputs": [
        {
          "output_type": "execute_result",
          "data": {
            "text/plain": [
              "462.1669216692167"
            ]
          },
          "metadata": {
            "tags": []
          },
          "execution_count": 208
        }
      ]
    },
    {
      "cell_type": "code",
      "metadata": {
        "id": "ZVKYPnWwoL7_",
        "colab_type": "code",
        "colab": {
          "base_uri": "https://localhost:8080/",
          "height": 34
        },
        "outputId": "2880d7a2-6a25-487d-9ac5-dd9e9bb106f0"
      },
      "source": [
        "myrange2 = np.linspace(470,530,100000)\n",
        "for for_jnd in myrange2:\n",
        "  p = softmax_reg.predict_proba([[for_jnd]])\n",
        "  if p[0][1] < 0.75001 and p[0][1] > 0.74999:\n",
        "    break\n",
        "jnd = for_jnd - absolute_threshold"
      ],
      "execution_count": 212,
      "outputs": [
        {
          "output_type": "execute_result",
          "data": {
            "text/plain": [
              "27.90147901479014"
            ]
          },
          "metadata": {
            "tags": []
          },
          "execution_count": 212
        }
      ]
    },
    {
      "cell_type": "code",
      "metadata": {
        "id": "G-EHLvTSXi2D",
        "colab_type": "code",
        "colab": {
          "base_uri": "https://localhost:8080/",
          "height": 335
        },
        "outputId": "d38ba2c0-83af-4562-cabc-5ff66b08f11b"
      },
      "source": [
        "X_result = []\n",
        "y_result = []\n",
        "for i in range(370,531,20):\n",
        "  for j in range(0,224):\n",
        "    if X.values[j][0] == i:\n",
        "      X_result.append(i)\n",
        "      y_result.append(prob[j])\n",
        "      break\n",
        "print('Session 3')\n",
        "plt.scatter(X_result,y_result)\n",
        "plt.scatter(absolute_threshold,0.5)\n",
        "plt.scatter(for_jnd,0.75)\n",
        "plt.plot(X_result,y_result)\n",
        "plt.show()\n",
        "print('absolute threshold(50%) : ',absolute_threshold)\n",
        "print('75%지점 : ',for_jnd)\n",
        "print('jnd(difference threshold) : ',jnd)"
      ],
      "execution_count": 216,
      "outputs": [
        {
          "output_type": "stream",
          "text": [
            "Session 3\n"
          ],
          "name": "stdout"
        },
        {
          "output_type": "display_data",
          "data": {
            "image/png": "[encoded data removed]",
            "text/plain": [
              "<Figure size 432x288 with 1 Axes>"
            ]
          },
          "metadata": {
            "tags": [],
            "needs_background": "light"
          }
        },
        {
          "output_type": "stream",
          "text": [
            "absolute threshold(50%) :  462.1669216692167\n",
            "75%지점 :  490.06840068400686\n",
            "jnd(difference threshold) :  27.90147901479014\n"
          ],
          "name": "stdout"
        }
      ]
    },
    {
      "cell_type": "code",
      "metadata": {
        "id": "EaZ_90wvqjLH",
        "colab_type": "code",
        "colab": {}
      },
      "source": [
        "def session_graph(session):\n",
        "  csv_file = '/content/drive/My Drive/Colab Notebooks/session'+str(session)+'.csv'\n",
        "  x = pd.read_csv(csv_file)\n",
        "  y = pd.read_csv(csv_file)\n",
        "  X = x.drop(\"label\",axis=1)\n",
        "  Y = y.drop(\"px\",axis=1)\n",
        "\n",
        "  softmax_reg = LogisticRegression(solver = 'liblinear', C=1000000000000, random_state=42)\n",
        "  X_ = X.values.reshape(-1,1)\n",
        "  softmax_reg.fit(X_,Y.values.ravel())\n",
        "  softmax_val = cross_val_score(softmax_reg,X_,Y.values.ravel(), cv=10, scoring=\"accuracy\").mean()\n",
        "\n",
        "  prob = []\n",
        "  for i in X_:\n",
        "    p_loss, p_win = softmax_reg.predict_proba([i])[0]\n",
        "    prob.append(p_win)\n",
        "\n",
        "  #pse\n",
        "  myrange = np.linspace(450,490,100000)\n",
        "  for absolute_threshold in myrange:\n",
        "    p = softmax_reg.predict_proba([[absolute_threshold]])\n",
        "    if p[0][1] < 0.50001 and p[0][1] > 0.49999:\n",
        "      break\n",
        "\n",
        "  #jnd\n",
        "  myrange2 = np.linspace(470,530,100000)\n",
        "  for for_jnd in myrange2:\n",
        "    p = softmax_reg.predict_proba([[for_jnd]])\n",
        "    if p[0][1] < 0.75001 and p[0][1] > 0.74999:\n",
        "      break\n",
        "  jnd = for_jnd - absolute_threshold\n",
        "\n",
        "  X_result = []\n",
        "  y_result = []\n",
        "  for i in range(370,531,20):\n",
        "    for j in range(0,224):\n",
        "      if X.values[j][0] == i:\n",
        "        X_result.append(i)\n",
        "        y_result.append(prob[j])\n",
        "        break\n",
        "  print('Session ',session)\n",
        "  print('cross validation score(얼마나 믿을만한 그래프인지) : ',softmax_val)\n",
        "  plt.scatter(X_result,y_result)\n",
        "  plt.scatter(absolute_threshold,0.5)\n",
        "  plt.scatter(for_jnd,0.75)\n",
        "  plt.plot(X_result,y_result)\n",
        "  plt.show()\n",
        "  print('absolute threshold(50%) : ',absolute_threshold)\n",
        "  print('75%지점 : ',for_jnd)\n",
        "  print('jnd(difference threshold) : ',jnd)"
      ],
      "execution_count": 0,
      "outputs": []
    },
    {
      "cell_type": "code",
      "metadata": {
        "id": "UmIAs-UDsivi",
        "colab_type": "code",
        "colab": {
          "base_uri": "https://localhost:8080/",
          "height": 353
        },
        "outputId": "78d51f6e-2e58-465a-ed10-5a8f38a3e0d0"
      },
      "source": [
        "session_graph(1)"
      ],
      "execution_count": 227,
      "outputs": [
        {
          "output_type": "stream",
          "text": [
            "Session  1\n",
            "cross validation score(얼마나 믿을만한 그래프인지) :  0.8523715415019761\n"
          ],
          "name": "stdout"
        },
        {
          "output_type": "display_data",
          "data": {
            "image/png": "[encoded data removed]",
            "text/plain": [
              "<Figure size 432x288 with 1 Axes>"
            ]
          },
          "metadata": {
            "tags": [],
            "needs_background": "light"
          }
        },
        {
          "output_type": "stream",
          "text": [
            "absolute threshold(50%) :  462.1669216692167\n",
            "75%지점 :  490.06840068400686\n",
            "jnd(difference threshold) :  27.90147901479014\n"
          ],
          "name": "stdout"
        }
      ]
    }
  ]
}